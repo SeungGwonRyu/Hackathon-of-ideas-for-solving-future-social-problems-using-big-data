{
 "cells": [
  {
   "cell_type": "code",
   "execution_count": 47,
   "metadata": {},
   "outputs": [],
   "source": [
    "import pandas as pd"
   ]
  },
  {
   "cell_type": "code",
   "execution_count": 48,
   "metadata": {},
   "outputs": [],
   "source": [
    "df = pd.read_excel(\"data/서울특별시_고립은둔 청년 실태조사 결과_20221231/★DATA_서울시 고립은둔청년 실태조사(청년조사)_v1_230127.xlsx\")"
   ]
  },
  {
   "cell_type": "code",
   "execution_count": 49,
   "metadata": {},
   "outputs": [],
   "source": [
    "df['KEY_1'] = df['KEY_1'].replace(2, 0)"
   ]
  },
  {
   "cell_type": "code",
   "execution_count": 50,
   "metadata": {},
   "outputs": [
    {
     "name": "stdout",
     "output_type": "stream",
     "text": [
      "[[988  26]\n",
      " [ 33  56]]\n",
      "              precision    recall  f1-score   support\n",
      "\n",
      "           0       0.97      0.97      0.97      1014\n",
      "           1       0.68      0.63      0.65        89\n",
      "\n",
      "    accuracy                           0.95      1103\n",
      "   macro avg       0.83      0.80      0.81      1103\n",
      "weighted avg       0.94      0.95      0.95      1103\n",
      "\n"
     ]
    },
    {
     "name": "stderr",
     "output_type": "stream",
     "text": [
      "/Applications/anaconda3/lib/python3.11/site-packages/sklearn/linear_model/_logistic.py:460: ConvergenceWarning: lbfgs failed to converge (status=1):\n",
      "STOP: TOTAL NO. of ITERATIONS REACHED LIMIT.\n",
      "\n",
      "Increase the number of iterations (max_iter) or scale the data as shown in:\n",
      "    https://scikit-learn.org/stable/modules/preprocessing.html\n",
      "Please also refer to the documentation for alternative solver options:\n",
      "    https://scikit-learn.org/stable/modules/linear_model.html#logistic-regression\n",
      "  n_iter_i = _check_optimize_result(\n"
     ]
    }
   ],
   "source": [
    "import pandas as pd\n",
    "from sklearn.model_selection import train_test_split\n",
    "from sklearn.linear_model import LogisticRegression\n",
    "from sklearn.metrics import classification_report, confusion_matrix\n",
    "\n",
    "independent_vars = ['SQ6_R', 'A1', 'A7', 'A9', 'A13_1', 'A13_2', 'A13_3', 'A13_4', 'A15', 'A17', \n",
    "                    'A18_1', 'A18_2', 'A18_3', 'A18_4', 'A19_1', 'A19_2', 'A19_3', 'A19_4', 'A19_5', 'A19_6', \n",
    "                    'A20_1', 'A20_2', 'A20_3', 'A20_4', 'A20_5', 'A20_6', 'A20_7', 'A20_8', \n",
    "                    'B1_1', 'B1_2', 'B1_3', 'B1_4', 'B1_5', 'B5_1', 'B7', 'B8', 'B9_1', 'B9_2', 'B9_3', 'B9_4', \n",
    "                    'B10', 'B11', 'B12_1', 'B12_2', 'B12_3', 'B12_4', 'B12_5', 'B12_6', 'B12_7', 'B12_8', 'B12_9', \n",
    "                    'DQ1', 'DQ5', 'DQ6']\n",
    "\n",
    "X = df[independent_vars]\n",
    "y = df['KEY_1']\n",
    "\n",
    "X_train, X_test, y_train, y_test = train_test_split(X, y, test_size=0.2, random_state=42)\n",
    "model = LogisticRegression()\n",
    "model.fit(X_train, y_train)\n",
    "\n",
    "y_pred = model.predict(X_test)\n",
    "\n",
    "print(confusion_matrix(y_test, y_pred))\n",
    "print(classification_report(y_test, y_pred))\n"
   ]
  },
  {
   "cell_type": "code",
   "execution_count": 51,
   "metadata": {},
   "outputs": [
    {
     "name": "stdout",
     "output_type": "stream",
     "text": [
      "Optimization terminated successfully.\n",
      "         Current function value: 0.130408\n",
      "         Iterations 9\n",
      "                           Logit Regression Results                           \n",
      "==============================================================================\n",
      "Dep. Variable:                  KEY_1   No. Observations:                 5513\n",
      "Model:                          Logit   Df Residuals:                     5458\n",
      "Method:                           MLE   Df Model:                           54\n",
      "Date:                Sat, 20 Jan 2024   Pseudo R-squ.:                  0.5628\n",
      "Time:                        16:06:47   Log-Likelihood:                -718.94\n",
      "converged:                       True   LL-Null:                       -1644.2\n",
      "Covariance Type:            nonrobust   LLR p-value:                     0.000\n",
      "==============================================================================\n",
      "                 coef    std err          z      P>|z|      [0.025      0.975]\n",
      "------------------------------------------------------------------------------\n",
      "const         -0.4938      1.230     -0.402      0.688      -2.904       1.917\n",
      "SQ6_R         -0.0971      0.068     -1.437      0.151      -0.230       0.035\n",
      "A1             0.8905      0.104      8.585      0.000       0.687       1.094\n",
      "A7             0.1019      0.043      2.389      0.017       0.018       0.186\n",
      "A9            -0.3196      0.167     -1.908      0.056      -0.648       0.009\n",
      "A13_1          0.1077      0.057      1.875      0.061      -0.005       0.220\n",
      "A13_2         -0.1769      0.073     -2.408      0.016      -0.321      -0.033\n",
      "A13_3         -1.0304      0.071    -14.551      0.000      -1.169      -0.892\n",
      "A13_4         -0.4484      0.054     -8.379      0.000      -0.553      -0.344\n",
      "A15           -0.2730      0.160     -1.705      0.088      -0.587       0.041\n",
      "A17            0.1361      0.149      0.913      0.361      -0.156       0.429\n",
      "A18_1          0.0234      0.120      0.196      0.845      -0.211       0.258\n",
      "A18_2          0.5652      0.117      4.813      0.000       0.335       0.795\n",
      "A18_3         -0.1110      0.127     -0.877      0.380      -0.359       0.137\n",
      "A18_4          0.1208      0.124      0.978      0.328      -0.121       0.363\n",
      "A19_1          0.4362      0.160      2.720      0.007       0.122       0.751\n",
      "A19_2          0.0799      0.163      0.489      0.625      -0.240       0.400\n",
      "A19_3         -0.0302      0.170     -0.177      0.859      -0.364       0.304\n",
      "A19_4          0.1311      0.163      0.803      0.422      -0.189       0.451\n",
      "A19_5         -0.0152      0.166     -0.091      0.927      -0.341       0.310\n",
      "A19_6          0.2921      0.159      1.840      0.066      -0.019       0.603\n",
      "A20_1         -0.3991      0.247     -1.615      0.106      -0.884       0.085\n",
      "A20_2         -0.0608      0.169     -0.361      0.718      -0.391       0.270\n",
      "A20_3         -0.0981      0.176     -0.558      0.577      -0.443       0.247\n",
      "A20_4         -0.0058      0.172     -0.034      0.973      -0.343       0.331\n",
      "A20_5          0.4565      0.207      2.208      0.027       0.051       0.862\n",
      "A20_6         -0.3327      0.201     -1.652      0.098      -0.727       0.062\n",
      "A20_7       6.751e-05      0.171      0.000      1.000      -0.334       0.334\n",
      "A20_8          0.1813      0.175      1.034      0.301      -0.162       0.525\n",
      "B1_1          -0.1418      0.112     -1.265      0.206      -0.362       0.078\n",
      "B1_2          -0.1430      0.111     -1.292      0.196      -0.360       0.074\n",
      "B1_3           0.0299      0.066      0.455      0.649      -0.099       0.159\n",
      "B1_4          -0.0928      0.082     -1.134      0.257      -0.253       0.068\n",
      "B1_5          -0.0200      0.079     -0.254      0.800      -0.175       0.135\n",
      "B5_1          -0.0321      0.036     -0.887      0.375      -0.103       0.039\n",
      "B7             0.2067      0.102      2.035      0.042       0.008       0.406\n",
      "B8             0.0903      0.061      1.482      0.138      -0.029       0.210\n",
      "B9_1          -0.0050      0.116     -0.043      0.965      -0.233       0.223\n",
      "B9_2           0.0909      0.117      0.780      0.435      -0.138       0.319\n",
      "B9_3           0.2273      0.139      1.636      0.102      -0.045       0.500\n",
      "B9_4          -0.0807      0.061     -1.325      0.185      -0.200       0.039\n",
      "B10           -0.0364      0.095     -0.383      0.702      -0.223       0.150\n",
      "B11           -0.4419      0.219     -2.014      0.044      -0.872      -0.012\n",
      "B12_1          0.2544      0.129      1.977      0.048       0.002       0.507\n",
      "B12_2         -0.0255      0.116     -0.220      0.826      -0.253       0.202\n",
      "B12_3         -0.0310      0.105     -0.295      0.768      -0.237       0.175\n",
      "B12_4         -0.0046      0.101     -0.045      0.964      -0.203       0.194\n",
      "B12_5         -0.0111      0.110     -0.100      0.920      -0.227       0.205\n",
      "B12_6          0.0471      0.102      0.464      0.643      -0.152       0.246\n",
      "B12_7         -0.0314      0.108     -0.290      0.772      -0.243       0.180\n",
      "B12_8         -0.0855      0.109     -0.785      0.433      -0.299       0.128\n",
      "B12_9          0.1586      0.106      1.489      0.136      -0.050       0.367\n",
      "DQ1           -0.1121      0.048     -2.326      0.020      -0.207      -0.018\n",
      "DQ5           -0.1184      0.064     -1.847      0.065      -0.244       0.007\n",
      "DQ6            0.1628      0.074      2.207      0.027       0.018       0.307\n",
      "==============================================================================\n"
     ]
    }
   ],
   "source": [
    "import pandas as pd\n",
    "import statsmodels.api as sm\n",
    "\n",
    "\n",
    "# 회귀 모델 학습\n",
    "X = sm.add_constant(X)\n",
    "model = sm.Logit(y, X)\n",
    "result = model.fit()\n",
    "\n",
    "# 회귀 계수 출력\n",
    "print(result.summary())\n"
   ]
  },
  {
   "cell_type": "code",
   "execution_count": 52,
   "metadata": {},
   "outputs": [
    {
     "name": "stdout",
     "output_type": "stream",
     "text": [
      "      Variable  Coefficient       P-Value\n",
      "A13_3    A13_3    -1.030367  5.781838e-48\n",
      "A1          A1     0.890491  9.102239e-18\n",
      "A18_2    A18_2     0.565218  1.487141e-06\n",
      "A20_5    A20_5     0.456466  2.725326e-02\n",
      "A13_4    A13_4    -0.448395  5.346998e-17\n",
      "B11        B11    -0.441881  4.402659e-02\n",
      "A19_1    A19_1     0.436193  6.528357e-03\n",
      "B12_1    B12_1     0.254417  4.805603e-02\n",
      "B7          B7     0.206656  4.183871e-02\n",
      "A13_2    A13_2    -0.176911  1.602722e-02\n",
      "DQ6        DQ6     0.162829  2.729059e-02\n",
      "DQ1        DQ1    -0.112115  2.001938e-02\n",
      "A7          A7     0.101902  1.689910e-02\n"
     ]
    }
   ],
   "source": [
    "# 유의미한 변수들 중 회귀계수의 절대값이 큰순서대로 내림차순\n",
    "coef_df = pd.DataFrame({'Variable': X.columns, 'Coefficient': result.params, 'P-Value': result.pvalues})\n",
    "significant_vars = coef_df[coef_df['P-Value'] < 0.05]\n",
    "significant_vars = significant_vars.sort_values(by='Coefficient', key=lambda x: abs(x), ascending=False)\n",
    "print(significant_vars)"
   ]
  },
  {
   "cell_type": "code",
   "execution_count": 53,
   "metadata": {},
   "outputs": [
    {
     "data": {
      "image/png": "[encoded data removed]",
      "text/plain": [
       "<Figure size 1200x800 with 1 Axes>"
      ]
     },
     "metadata": {},
     "output_type": "display_data"
    }
   ],
   "source": [
    "import matplotlib.pyplot as plt\n",
    "# 상수를 제외한 상위 10개 변수 선택\n",
    "top_10_vars_without_const = significant_vars[significant_vars['Variable'] != 'const'].head(10)\n",
    "\n",
    "# 막대 그래프로 시각화\n",
    "plt.figure(figsize=(12, 8))\n",
    "plt.barh(top_10_vars_without_const['Variable'], top_10_vars_without_const['Coefficient'], color='skyblue')\n",
    "plt.xlabel('Coefficient Value')\n",
    "plt.title('Top 10 Significant Coefficients in Logistic Regression (Excluding Constant)')\n",
    "plt.show()"
   ]
  },
  {
   "attachments": {},
   "cell_type": "markdown",
   "metadata": {},
   "source": [
    "# -----------------------------------------------------------"
   ]
  },
  {
   "cell_type": "code",
   "execution_count": 54,
   "metadata": {},
   "outputs": [
    {
     "name": "stdout",
     "output_type": "stream",
     "text": [
      "[[991  23]\n",
      " [ 34  55]]\n",
      "              precision    recall  f1-score   support\n",
      "\n",
      "           0       0.97      0.98      0.97      1014\n",
      "           1       0.71      0.62      0.66        89\n",
      "\n",
      "    accuracy                           0.95      1103\n",
      "   macro avg       0.84      0.80      0.82      1103\n",
      "weighted avg       0.95      0.95      0.95      1103\n",
      "\n"
     ]
    }
   ],
   "source": [
    "import pandas as pd\n",
    "from sklearn.model_selection import train_test_split\n",
    "from sklearn.linear_model import LogisticRegression\n",
    "from sklearn.metrics import classification_report, confusion_matrix\n",
    "#유의한 변수들만 재구성\n",
    "significant_vars = ['SQ6_R', 'A1', 'A7', 'A9', 'A13_1', 'A13_2', 'A13_3', 'A13_4', 'A15', 'A20_1', 'A20_5', \n",
    "                    'B7', 'B11', 'DQ1', 'DQ5', 'DQ6']\n",
    "\n",
    "X = df[significant_vars]\n",
    "y = df['KEY_1']\n",
    "\n",
    "X_train, X_test, y_train, y_test = train_test_split(X, y, test_size=0.2, random_state=42)\n",
    "model = LogisticRegression()\n",
    "model.fit(X_train, y_train)\n",
    "\n",
    "y_pred = model.predict(X_test)\n",
    "\n",
    "print(confusion_matrix(y_test, y_pred))\n",
    "print(classification_report(y_test, y_pred))"
   ]
  },
  {
   "cell_type": "code",
   "execution_count": 55,
   "metadata": {},
   "outputs": [
    {
     "name": "stdout",
     "output_type": "stream",
     "text": [
      "Optimization terminated successfully.\n",
      "         Current function value: 0.145374\n",
      "         Iterations 9\n",
      "                           Logit Regression Results                           \n",
      "==============================================================================\n",
      "Dep. Variable:                  KEY_1   No. Observations:                 5513\n",
      "Model:                          Logit   Df Residuals:                     5496\n",
      "Method:                           MLE   Df Model:                           16\n",
      "Date:                Sat, 20 Jan 2024   Pseudo R-squ.:                  0.5126\n",
      "Time:                        16:06:47   Log-Likelihood:                -801.45\n",
      "converged:                       True   LL-Null:                       -1644.2\n",
      "Covariance Type:            nonrobust   LLR p-value:                     0.000\n",
      "==============================================================================\n",
      "                 coef    std err          z      P>|z|      [0.025      0.975]\n",
      "------------------------------------------------------------------------------\n",
      "const          4.0568      0.841      4.823      0.000       2.408       5.705\n",
      "SQ6_R         -0.0454      0.060     -0.751      0.453      -0.164       0.073\n",
      "A1             0.7914      0.094      8.446      0.000       0.608       0.975\n",
      "A7             0.0994      0.038      2.590      0.010       0.024       0.175\n",
      "A9            -0.4841      0.154     -3.149      0.002      -0.785      -0.183\n",
      "A13_1          0.0063      0.048      0.132      0.895      -0.087       0.100\n",
      "A13_2         -0.2922      0.068     -4.272      0.000      -0.426      -0.158\n",
      "A13_3         -1.0268      0.065    -15.681      0.000      -1.155      -0.899\n",
      "A13_4         -0.4719      0.051     -9.177      0.000      -0.573      -0.371\n",
      "A15           -0.6579      0.143     -4.595      0.000      -0.938      -0.377\n",
      "A20_1         -0.1950      0.218     -0.896      0.370      -0.622       0.232\n",
      "A20_5          0.6628      0.147      4.498      0.000       0.374       0.952\n",
      "B7             0.2777      0.093      2.994      0.003       0.096       0.460\n",
      "B11           -0.7242      0.194     -3.730      0.000      -1.105      -0.344\n",
      "DQ1           -0.1476      0.045     -3.293      0.001      -0.235      -0.060\n",
      "DQ5           -0.1109      0.060     -1.843      0.065      -0.229       0.007\n",
      "DQ6            0.2124      0.068      3.115      0.002       0.079       0.346\n",
      "==============================================================================\n"
     ]
    }
   ],
   "source": [
    "import pandas as pd\n",
    "import statsmodels.api as sm\n",
    "\n",
    "\n",
    "X = sm.add_constant(X)\n",
    "model = sm.Logit(y, X)\n",
    "result = model.fit()\n",
    "\n",
    "print(result.summary())"
   ]
  },
  {
   "cell_type": "code",
   "execution_count": 56,
   "metadata": {},
   "outputs": [
    {
     "name": "stdout",
     "output_type": "stream",
     "text": [
      "      Variable  Coefficient       P-Value\n",
      "A7          A7     0.099428  9.597993e-03\n",
      "DQ1        DQ1    -0.147573  9.904568e-04\n",
      "DQ6        DQ6     0.212433  1.839362e-03\n",
      "B7          B7     0.277734  2.757442e-03\n",
      "A13_2    A13_2    -0.292234  1.935480e-05\n",
      "A13_4    A13_4    -0.471850  4.440942e-20\n",
      "A9          A9    -0.484080  1.639582e-03\n",
      "A15        A15    -0.657857  4.319576e-06\n",
      "A20_5    A20_5     0.662775  6.858026e-06\n",
      "B11        B11    -0.724193  1.916405e-04\n",
      "A1          A1     0.791378  3.013166e-17\n",
      "A13_3    A13_3    -1.026848  2.038509e-55\n",
      "const    const     4.056810  1.412735e-06\n"
     ]
    }
   ],
   "source": [
    "# 유의미한 변수들 중 회귀계수의 절대값이 큰순서대로 내림차순\n",
    "coef_df = pd.DataFrame({'Variable': X.columns, 'Coefficient': result.params, 'P-Value': result.pvalues})\n",
    "significant_vars = coef_df[coef_df['P-Value'] < 0.05]\n",
    "significant_vars = significant_vars.sort_values(by='Coefficient', key=lambda x: abs(x), ascending=True)\n",
    "print(significant_vars)"
   ]
  },
  {
   "cell_type": "code",
   "execution_count": 58,
   "metadata": {},
   "outputs": [
    {
     "data": {
      "image/png": "[encoded data removed]",
      "text/plain": [
       "<Figure size 1200x800 with 1 Axes>"
      ]
     },
     "metadata": {},
     "output_type": "display_data"
    }
   ],
   "source": [
    "import matplotlib.pyplot as plt\n",
    "# 상수를 제외한 상위 10개 변수 선택\n",
    "top_10_vars_without_const = significant_vars[significant_vars['Variable'] != 'const'].head(5)\n",
    "\n",
    "# 막대 그래프로 시각화\n",
    "plt.figure(figsize=(12, 8))\n",
    "plt.barh(top_10_vars_without_const['Variable'], top_10_vars_without_const['Coefficient'], color='skyblue')\n",
    "plt.xlabel('Coefficient Value')\n",
    "plt.title('Top 5 Significant Coefficients in Logistic Regression (Excluding Constant)')\n",
    "plt.show()"
   ]
  },
  {
   "cell_type": "code",
   "execution_count": null,
   "metadata": {},
   "outputs": [],
   "source": []
  }
 ],
 "metadata": {
  "kernelspec": {
   "display_name": "base",
   "language": "python",
   "name": "python3"
  },
  "language_info": {
   "codemirror_mode": {
    "name": "ipython",
    "version": 3
   },
   "file_extension": ".py",
   "mimetype": "text/x-python",
   "name": "python",
   "nbconvert_exporter": "python",
   "pygments_lexer": "ipython3",
   "version": "3.11.4"
  },
  "orig_nbformat": 4
 },
 "nbformat": 4,
 "nbformat_minor": 2
}
